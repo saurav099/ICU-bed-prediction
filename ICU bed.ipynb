{
 "cells": [
  {
   "cell_type": "markdown",
   "metadata": {},
   "source": [
    "#### First some imports"
   ]
  },
  {
   "cell_type": "code",
   "execution_count": 1,
   "metadata": {},
   "outputs": [],
   "source": [
    "# for algebra \n",
    "import numpy as np\n",
    "# for data processing\n",
    "import pandas as pd\n",
    "# for visualization\n",
    "import matplotlib.pyplot as plt\n",
    "%matplotlib inline\n",
    "import seaborn as sns\n",
    "# for preprocessing\n",
    "from sklearn.preprocessing import LabelEncoder\n",
    "from sklearn.model_selection import train_test_split"
   ]
  },
  {
   "cell_type": "markdown",
   "metadata": {},
   "source": [
    "#### Let's load the data and see what we are working with"
   ]
  },
  {
   "cell_type": "code",
   "execution_count": 2,
   "metadata": {},
   "outputs": [
    {
     "data": {
      "text/html": [
       "<div>\n",
       "<style scoped>\n",
       "    .dataframe tbody tr th:only-of-type {\n",
       "        vertical-align: middle;\n",
       "    }\n",
       "\n",
       "    .dataframe tbody tr th {\n",
       "        vertical-align: top;\n",
       "    }\n",
       "\n",
       "    .dataframe thead th {\n",
       "        text-align: right;\n",
       "    }\n",
       "</style>\n",
       "<table border=\"1\" class=\"dataframe\">\n",
       "  <thead>\n",
       "    <tr style=\"text-align: right;\">\n",
       "      <th></th>\n",
       "      <th>Year</th>\n",
       "      <th>COUNTY</th>\n",
       "      <th>OSHPD_ID</th>\n",
       "      <th>Facility Name</th>\n",
       "      <th>Licensed Bed Classification</th>\n",
       "      <th>License Bed Designation</th>\n",
       "      <th>Licensed Bed Day</th>\n",
       "      <th>Discharges</th>\n",
       "      <th>Census Day</th>\n",
       "      <th>Intra Hospital Transfer from Critical Care</th>\n",
       "    </tr>\n",
       "  </thead>\n",
       "  <tbody>\n",
       "    <tr>\n",
       "      <th>0</th>\n",
       "      <td>2005.0</td>\n",
       "      <td>Alameda</td>\n",
       "      <td>106010735.0</td>\n",
       "      <td>ALAMEDA HOSPITAL</td>\n",
       "      <td>General Acute Care</td>\n",
       "      <td>Medical/Surgical Acute (includes GYN/DOU)</td>\n",
       "      <td>30660.0</td>\n",
       "      <td>2835.0</td>\n",
       "      <td>11297.0</td>\n",
       "      <td>0</td>\n",
       "    </tr>\n",
       "    <tr>\n",
       "      <th>1</th>\n",
       "      <td>2005.0</td>\n",
       "      <td>Alameda</td>\n",
       "      <td>106010735.0</td>\n",
       "      <td>ALAMEDA HOSPITAL</td>\n",
       "      <td>General Acute Care</td>\n",
       "      <td>Pediatric Acute</td>\n",
       "      <td>0.0</td>\n",
       "      <td>0.0</td>\n",
       "      <td>0.0</td>\n",
       "      <td>0</td>\n",
       "    </tr>\n",
       "    <tr>\n",
       "      <th>2</th>\n",
       "      <td>2005.0</td>\n",
       "      <td>Alameda</td>\n",
       "      <td>106010735.0</td>\n",
       "      <td>ALAMEDA HOSPITAL</td>\n",
       "      <td>General Acute Care</td>\n",
       "      <td>Intensive Care</td>\n",
       "      <td>2920.0</td>\n",
       "      <td>170.0</td>\n",
       "      <td>1369.0</td>\n",
       "      <td>326</td>\n",
       "    </tr>\n",
       "    <tr>\n",
       "      <th>3</th>\n",
       "      <td>2005.0</td>\n",
       "      <td>Alameda</td>\n",
       "      <td>106010735.0</td>\n",
       "      <td>ALAMEDA HOSPITAL</td>\n",
       "      <td>General Acute Care</td>\n",
       "      <td>Coronary Care</td>\n",
       "      <td>2920.0</td>\n",
       "      <td>0.0</td>\n",
       "      <td>0.0</td>\n",
       "      <td>0</td>\n",
       "    </tr>\n",
       "    <tr>\n",
       "      <th>4</th>\n",
       "      <td>2005.0</td>\n",
       "      <td>Alameda</td>\n",
       "      <td>106010735.0</td>\n",
       "      <td>ALAMEDA HOSPITAL</td>\n",
       "      <td>General Acute Care</td>\n",
       "      <td>Acute Respiratory Care</td>\n",
       "      <td>0.0</td>\n",
       "      <td>0.0</td>\n",
       "      <td>0.0</td>\n",
       "      <td>0</td>\n",
       "    </tr>\n",
       "  </tbody>\n",
       "</table>\n",
       "</div>"
      ],
      "text/plain": [
       "     Year   COUNTY     OSHPD_ID     Facility Name Licensed Bed Classification  \\\n",
       "0  2005.0  Alameda  106010735.0  ALAMEDA HOSPITAL          General Acute Care   \n",
       "1  2005.0  Alameda  106010735.0  ALAMEDA HOSPITAL          General Acute Care   \n",
       "2  2005.0  Alameda  106010735.0  ALAMEDA HOSPITAL          General Acute Care   \n",
       "3  2005.0  Alameda  106010735.0  ALAMEDA HOSPITAL          General Acute Care   \n",
       "4  2005.0  Alameda  106010735.0  ALAMEDA HOSPITAL          General Acute Care   \n",
       "\n",
       "                     License Bed Designation  Licensed Bed Day  Discharges  \\\n",
       "0  Medical/Surgical Acute (includes GYN/DOU)           30660.0      2835.0   \n",
       "1                            Pediatric Acute               0.0         0.0   \n",
       "2                             Intensive Care            2920.0       170.0   \n",
       "3                              Coronary Care            2920.0         0.0   \n",
       "4                     Acute Respiratory Care               0.0         0.0   \n",
       "\n",
       "   Census Day  Intra Hospital Transfer from Critical Care  \n",
       "0     11297.0                                           0  \n",
       "1         0.0                                           0  \n",
       "2      1369.0                                         326  \n",
       "3         0.0                                           0  \n",
       "4         0.0                                           0  "
      ]
     },
     "execution_count": 2,
     "metadata": {},
     "output_type": "execute_result"
    }
   ],
   "source": [
    "data = pd.read_csv('beds.csv')\n",
    "data.head()"
   ]
  },
  {
   "cell_type": "code",
   "execution_count": 3,
   "metadata": {},
   "outputs": [
    {
     "data": {
      "text/plain": [
       "(77085, 10)"
      ]
     },
     "execution_count": 3,
     "metadata": {},
     "output_type": "execute_result"
    }
   ],
   "source": [
    "data.shape"
   ]
  },
  {
   "cell_type": "code",
   "execution_count": 4,
   "metadata": {},
   "outputs": [
    {
     "name": "stdout",
     "output_type": "stream",
     "text": [
      "<class 'pandas.core.frame.DataFrame'>\n",
      "RangeIndex: 77085 entries, 0 to 77084\n",
      "Data columns (total 10 columns):\n",
      " #   Column                                      Non-Null Count  Dtype  \n",
      "---  ------                                      --------------  -----  \n",
      " 0   Year                                        77084 non-null  float64\n",
      " 1   COUNTY                                      77084 non-null  object \n",
      " 2   OSHPD_ID                                    77084 non-null  float64\n",
      " 3   Facility Name                               77084 non-null  object \n",
      " 4   Licensed Bed Classification                 77084 non-null  object \n",
      " 5   License Bed Designation                     49554 non-null  object \n",
      " 6   Licensed Bed Day                            77084 non-null  float64\n",
      " 7   Discharges                                  77084 non-null  float64\n",
      " 8   Census Day                                  77084 non-null  float64\n",
      " 9   Intra Hospital Transfer from Critical Care  77085 non-null  int64  \n",
      "dtypes: float64(5), int64(1), object(4)\n",
      "memory usage: 5.9+ MB\n"
     ]
    }
   ],
   "source": [
    "data.info()"
   ]
  },
  {
   "cell_type": "markdown",
   "metadata": {},
   "source": [
    "****\n",
    "We can see that we have some null values mixed in with the data, and we can confirm which ones they are by:"
   ]
  },
  {
   "cell_type": "code",
   "execution_count": 5,
   "metadata": {},
   "outputs": [
    {
     "data": {
      "text/plain": [
       "Year                                              1\n",
       "COUNTY                                            1\n",
       "OSHPD_ID                                          1\n",
       "Facility Name                                     1\n",
       "Licensed Bed Classification                       1\n",
       "License Bed Designation                       27531\n",
       "Licensed Bed Day                                  1\n",
       "Discharges                                        1\n",
       "Census Day                                        1\n",
       "Intra Hospital Transfer from Critical Care        0\n",
       "dtype: int64"
      ]
     },
     "execution_count": 5,
     "metadata": {},
     "output_type": "execute_result"
    }
   ],
   "source": [
    "data.isnull().sum()"
   ]
  },
  {
   "cell_type": "markdown",
   "metadata": {},
   "source": [
    "****\n",
    "So we have a lot of null values in one category and one null value in the other ones. Let's get rid of these "
   ]
  },
  {
   "cell_type": "code",
   "execution_count": 6,
   "metadata": {},
   "outputs": [],
   "source": [
    "data = data.dropna()"
   ]
  },
  {
   "cell_type": "markdown",
   "metadata": {},
   "source": [
    "Let's check one last time"
   ]
  },
  {
   "cell_type": "code",
   "execution_count": 7,
   "metadata": {},
   "outputs": [
    {
     "data": {
      "text/plain": [
       "Year                                          0\n",
       "COUNTY                                        0\n",
       "OSHPD_ID                                      0\n",
       "Facility Name                                 0\n",
       "Licensed Bed Classification                   0\n",
       "License Bed Designation                       0\n",
       "Licensed Bed Day                              0\n",
       "Discharges                                    0\n",
       "Census Day                                    0\n",
       "Intra Hospital Transfer from Critical Care    0\n",
       "dtype: int64"
      ]
     },
     "execution_count": 7,
     "metadata": {},
     "output_type": "execute_result"
    }
   ],
   "source": [
    "data.isnull().sum()"
   ]
  },
  {
   "cell_type": "markdown",
   "metadata": {},
   "source": [
    "****\n",
    "And we are good,\n",
    "\n",
    "we can also delete the duplicate values as that will:\n",
    "* make data heavier that it needs to be\n",
    "* lower the model efficiency and speed "
   ]
  },
  {
   "cell_type": "code",
   "execution_count": 8,
   "metadata": {},
   "outputs": [],
   "source": [
    "data.drop_duplicates(inplace=True)"
   ]
  },
  {
   "cell_type": "code",
   "execution_count": 9,
   "metadata": {},
   "outputs": [
    {
     "data": {
      "text/html": [
       "<div>\n",
       "<style scoped>\n",
       "    .dataframe tbody tr th:only-of-type {\n",
       "        vertical-align: middle;\n",
       "    }\n",
       "\n",
       "    .dataframe tbody tr th {\n",
       "        vertical-align: top;\n",
       "    }\n",
       "\n",
       "    .dataframe thead th {\n",
       "        text-align: right;\n",
       "    }\n",
       "</style>\n",
       "<table border=\"1\" class=\"dataframe\">\n",
       "  <thead>\n",
       "    <tr style=\"text-align: right;\">\n",
       "      <th></th>\n",
       "      <th>Year</th>\n",
       "      <th>COUNTY</th>\n",
       "      <th>OSHPD_ID</th>\n",
       "      <th>Facility Name</th>\n",
       "      <th>Licensed Bed Classification</th>\n",
       "      <th>License Bed Designation</th>\n",
       "      <th>Licensed Bed Day</th>\n",
       "      <th>Discharges</th>\n",
       "      <th>Census Day</th>\n",
       "      <th>Intra Hospital Transfer from Critical Care</th>\n",
       "    </tr>\n",
       "  </thead>\n",
       "  <tbody>\n",
       "    <tr>\n",
       "      <th>0</th>\n",
       "      <td>2005.0</td>\n",
       "      <td>Alameda</td>\n",
       "      <td>106010735.0</td>\n",
       "      <td>ALAMEDA HOSPITAL</td>\n",
       "      <td>General Acute Care</td>\n",
       "      <td>Medical/Surgical Acute (includes GYN/DOU)</td>\n",
       "      <td>30660.0</td>\n",
       "      <td>2835.0</td>\n",
       "      <td>11297.0</td>\n",
       "      <td>0</td>\n",
       "    </tr>\n",
       "    <tr>\n",
       "      <th>1</th>\n",
       "      <td>2005.0</td>\n",
       "      <td>Alameda</td>\n",
       "      <td>106010735.0</td>\n",
       "      <td>ALAMEDA HOSPITAL</td>\n",
       "      <td>General Acute Care</td>\n",
       "      <td>Pediatric Acute</td>\n",
       "      <td>0.0</td>\n",
       "      <td>0.0</td>\n",
       "      <td>0.0</td>\n",
       "      <td>0</td>\n",
       "    </tr>\n",
       "    <tr>\n",
       "      <th>2</th>\n",
       "      <td>2005.0</td>\n",
       "      <td>Alameda</td>\n",
       "      <td>106010735.0</td>\n",
       "      <td>ALAMEDA HOSPITAL</td>\n",
       "      <td>General Acute Care</td>\n",
       "      <td>Intensive Care</td>\n",
       "      <td>2920.0</td>\n",
       "      <td>170.0</td>\n",
       "      <td>1369.0</td>\n",
       "      <td>326</td>\n",
       "    </tr>\n",
       "    <tr>\n",
       "      <th>3</th>\n",
       "      <td>2005.0</td>\n",
       "      <td>Alameda</td>\n",
       "      <td>106010735.0</td>\n",
       "      <td>ALAMEDA HOSPITAL</td>\n",
       "      <td>General Acute Care</td>\n",
       "      <td>Coronary Care</td>\n",
       "      <td>2920.0</td>\n",
       "      <td>0.0</td>\n",
       "      <td>0.0</td>\n",
       "      <td>0</td>\n",
       "    </tr>\n",
       "    <tr>\n",
       "      <th>4</th>\n",
       "      <td>2005.0</td>\n",
       "      <td>Alameda</td>\n",
       "      <td>106010735.0</td>\n",
       "      <td>ALAMEDA HOSPITAL</td>\n",
       "      <td>General Acute Care</td>\n",
       "      <td>Acute Respiratory Care</td>\n",
       "      <td>0.0</td>\n",
       "      <td>0.0</td>\n",
       "      <td>0.0</td>\n",
       "      <td>0</td>\n",
       "    </tr>\n",
       "  </tbody>\n",
       "</table>\n",
       "</div>"
      ],
      "text/plain": [
       "     Year   COUNTY     OSHPD_ID     Facility Name Licensed Bed Classification  \\\n",
       "0  2005.0  Alameda  106010735.0  ALAMEDA HOSPITAL          General Acute Care   \n",
       "1  2005.0  Alameda  106010735.0  ALAMEDA HOSPITAL          General Acute Care   \n",
       "2  2005.0  Alameda  106010735.0  ALAMEDA HOSPITAL          General Acute Care   \n",
       "3  2005.0  Alameda  106010735.0  ALAMEDA HOSPITAL          General Acute Care   \n",
       "4  2005.0  Alameda  106010735.0  ALAMEDA HOSPITAL          General Acute Care   \n",
       "\n",
       "                     License Bed Designation  Licensed Bed Day  Discharges  \\\n",
       "0  Medical/Surgical Acute (includes GYN/DOU)           30660.0      2835.0   \n",
       "1                            Pediatric Acute               0.0         0.0   \n",
       "2                             Intensive Care            2920.0       170.0   \n",
       "3                              Coronary Care            2920.0         0.0   \n",
       "4                     Acute Respiratory Care               0.0         0.0   \n",
       "\n",
       "   Census Day  Intra Hospital Transfer from Critical Care  \n",
       "0     11297.0                                           0  \n",
       "1         0.0                                           0  \n",
       "2      1369.0                                         326  \n",
       "3         0.0                                           0  \n",
       "4         0.0                                           0  "
      ]
     },
     "execution_count": 9,
     "metadata": {},
     "output_type": "execute_result"
    }
   ],
   "source": [
    "data.head()"
   ]
  },
  {
   "cell_type": "markdown",
   "metadata": {},
   "source": [
    "****\n",
    "Now, we can also clearly see that some of the values are just 0 across the board, so let's check them"
   ]
  },
  {
   "cell_type": "code",
   "execution_count": 10,
   "metadata": {},
   "outputs": [
    {
     "data": {
      "text/plain": [
       "(49554, 10)"
      ]
     },
     "execution_count": 10,
     "metadata": {},
     "output_type": "execute_result"
    }
   ],
   "source": [
    "data.shape"
   ]
  },
  {
   "cell_type": "code",
   "execution_count": 11,
   "metadata": {},
   "outputs": [
    {
     "data": {
      "text/html": [
       "<div>\n",
       "<style scoped>\n",
       "    .dataframe tbody tr th:only-of-type {\n",
       "        vertical-align: middle;\n",
       "    }\n",
       "\n",
       "    .dataframe tbody tr th {\n",
       "        vertical-align: top;\n",
       "    }\n",
       "\n",
       "    .dataframe thead th {\n",
       "        text-align: right;\n",
       "    }\n",
       "</style>\n",
       "<table border=\"1\" class=\"dataframe\">\n",
       "  <thead>\n",
       "    <tr style=\"text-align: right;\">\n",
       "      <th></th>\n",
       "      <th>Year</th>\n",
       "      <th>COUNTY</th>\n",
       "      <th>OSHPD_ID</th>\n",
       "      <th>Facility Name</th>\n",
       "      <th>Licensed Bed Classification</th>\n",
       "      <th>License Bed Designation</th>\n",
       "      <th>Licensed Bed Day</th>\n",
       "      <th>Discharges</th>\n",
       "      <th>Census Day</th>\n",
       "      <th>Intra Hospital Transfer from Critical Care</th>\n",
       "    </tr>\n",
       "  </thead>\n",
       "  <tbody>\n",
       "    <tr>\n",
       "      <th>1</th>\n",
       "      <td>2005.0</td>\n",
       "      <td>Alameda</td>\n",
       "      <td>106010735.0</td>\n",
       "      <td>ALAMEDA HOSPITAL</td>\n",
       "      <td>General Acute Care</td>\n",
       "      <td>Pediatric Acute</td>\n",
       "      <td>0.0</td>\n",
       "      <td>0.0</td>\n",
       "      <td>0.0</td>\n",
       "      <td>0</td>\n",
       "    </tr>\n",
       "    <tr>\n",
       "      <th>4</th>\n",
       "      <td>2005.0</td>\n",
       "      <td>Alameda</td>\n",
       "      <td>106010735.0</td>\n",
       "      <td>ALAMEDA HOSPITAL</td>\n",
       "      <td>General Acute Care</td>\n",
       "      <td>Acute Respiratory Care</td>\n",
       "      <td>0.0</td>\n",
       "      <td>0.0</td>\n",
       "      <td>0.0</td>\n",
       "      <td>0</td>\n",
       "    </tr>\n",
       "    <tr>\n",
       "      <th>5</th>\n",
       "      <td>2005.0</td>\n",
       "      <td>Alameda</td>\n",
       "      <td>106010735.0</td>\n",
       "      <td>ALAMEDA HOSPITAL</td>\n",
       "      <td>General Acute Care</td>\n",
       "      <td>Burn Center</td>\n",
       "      <td>0.0</td>\n",
       "      <td>0.0</td>\n",
       "      <td>0.0</td>\n",
       "      <td>0</td>\n",
       "    </tr>\n",
       "    <tr>\n",
       "      <th>6</th>\n",
       "      <td>2005.0</td>\n",
       "      <td>Alameda</td>\n",
       "      <td>106010735.0</td>\n",
       "      <td>ALAMEDA HOSPITAL</td>\n",
       "      <td>General Acute Care</td>\n",
       "      <td>Intensive Care Newborn Nursery</td>\n",
       "      <td>0.0</td>\n",
       "      <td>0.0</td>\n",
       "      <td>0.0</td>\n",
       "      <td>0</td>\n",
       "    </tr>\n",
       "    <tr>\n",
       "      <th>7</th>\n",
       "      <td>2005.0</td>\n",
       "      <td>Alameda</td>\n",
       "      <td>106010735.0</td>\n",
       "      <td>ALAMEDA HOSPITAL</td>\n",
       "      <td>General Acute Care</td>\n",
       "      <td>Rehabilitation Center</td>\n",
       "      <td>0.0</td>\n",
       "      <td>0.0</td>\n",
       "      <td>0.0</td>\n",
       "      <td>0</td>\n",
       "    </tr>\n",
       "  </tbody>\n",
       "</table>\n",
       "</div>"
      ],
      "text/plain": [
       "     Year   COUNTY     OSHPD_ID     Facility Name Licensed Bed Classification  \\\n",
       "1  2005.0  Alameda  106010735.0  ALAMEDA HOSPITAL          General Acute Care   \n",
       "4  2005.0  Alameda  106010735.0  ALAMEDA HOSPITAL          General Acute Care   \n",
       "5  2005.0  Alameda  106010735.0  ALAMEDA HOSPITAL          General Acute Care   \n",
       "6  2005.0  Alameda  106010735.0  ALAMEDA HOSPITAL          General Acute Care   \n",
       "7  2005.0  Alameda  106010735.0  ALAMEDA HOSPITAL          General Acute Care   \n",
       "\n",
       "          License Bed Designation  Licensed Bed Day  Discharges  Census Day  \\\n",
       "1                 Pediatric Acute               0.0         0.0         0.0   \n",
       "4          Acute Respiratory Care               0.0         0.0         0.0   \n",
       "5                     Burn Center               0.0         0.0         0.0   \n",
       "6  Intensive Care Newborn Nursery               0.0         0.0         0.0   \n",
       "7           Rehabilitation Center               0.0         0.0         0.0   \n",
       "\n",
       "   Intra Hospital Transfer from Critical Care  \n",
       "1                                           0  \n",
       "4                                           0  \n",
       "5                                           0  \n",
       "6                                           0  \n",
       "7                                           0  "
      ]
     },
     "execution_count": 11,
     "metadata": {},
     "output_type": "execute_result"
    }
   ],
   "source": [
    "data[data['Licensed Bed Day']==0].head()"
   ]
  },
  {
   "cell_type": "code",
   "execution_count": 12,
   "metadata": {},
   "outputs": [
    {
     "data": {
      "text/plain": [
       "32162"
      ]
     },
     "execution_count": 12,
     "metadata": {},
     "output_type": "execute_result"
    }
   ],
   "source": [
    "len(data[data['Licensed Bed Day']==0])"
   ]
  },
  {
   "cell_type": "markdown",
   "metadata": {},
   "source": [
    "****\n",
    "For these rows, everything is zero, that is not really helping the model to predict anything, so let's just get rid of these"
   ]
  },
  {
   "cell_type": "code",
   "execution_count": 13,
   "metadata": {},
   "outputs": [],
   "source": [
    "data = data[data['Licensed Bed Day']!=0]"
   ]
  },
  {
   "cell_type": "code",
   "execution_count": 14,
   "metadata": {},
   "outputs": [],
   "source": [
    "data.drop(0, inplace = True)"
   ]
  },
  {
   "cell_type": "markdown",
   "metadata": {},
   "source": [
    "****\n",
    "For the problem we are doing, we only need ICU cases, so the others can be removed."
   ]
  },
  {
   "cell_type": "code",
   "execution_count": 15,
   "metadata": {},
   "outputs": [],
   "source": [
    "data= data[data[\"License Bed Designation\"]==\"Intensive Care\"]"
   ]
  },
  {
   "cell_type": "code",
   "execution_count": 16,
   "metadata": {},
   "outputs": [
    {
     "data": {
      "text/plain": [
       "(3867, 10)"
      ]
     },
     "execution_count": 16,
     "metadata": {},
     "output_type": "execute_result"
    }
   ],
   "source": [
    "data.shape"
   ]
  },
  {
   "cell_type": "markdown",
   "metadata": {},
   "source": [
    "Now we have only 3867 rows of data but it is what we need instead of useless data.\n"
   ]
  },
  {
   "cell_type": "code",
   "execution_count": 17,
   "metadata": {},
   "outputs": [],
   "source": [
    "something = data\n",
    "something.to_csv(\"Original Data(cleaned).csv\", index=False)"
   ]
  },
  {
   "cell_type": "markdown",
   "metadata": {},
   "source": [
    "### Some columns are confusing, so we can change them to be more friendly:\n",
    "\n",
    "\n",
    "1. License Bed Day : number of total licensed total beds --> licensed total beds\n",
    "2. Census Day : daily census of total patients --> beds occupied\n"
   ]
  },
  {
   "cell_type": "code",
   "execution_count": 18,
   "metadata": {},
   "outputs": [],
   "source": [
    "data.rename(columns={'Licensed Bed Day':'Licensed Total Beds',\n",
    "                          'Census Day':'Beds Occupied'}, \n",
    "                 inplace=True)"
   ]
  },
  {
   "cell_type": "code",
   "execution_count": 19,
   "metadata": {},
   "outputs": [
    {
     "data": {
      "text/html": [
       "<div>\n",
       "<style scoped>\n",
       "    .dataframe tbody tr th:only-of-type {\n",
       "        vertical-align: middle;\n",
       "    }\n",
       "\n",
       "    .dataframe tbody tr th {\n",
       "        vertical-align: top;\n",
       "    }\n",
       "\n",
       "    .dataframe thead th {\n",
       "        text-align: right;\n",
       "    }\n",
       "</style>\n",
       "<table border=\"1\" class=\"dataframe\">\n",
       "  <thead>\n",
       "    <tr style=\"text-align: right;\">\n",
       "      <th></th>\n",
       "      <th>Year</th>\n",
       "      <th>COUNTY</th>\n",
       "      <th>OSHPD_ID</th>\n",
       "      <th>Facility Name</th>\n",
       "      <th>Licensed Bed Classification</th>\n",
       "      <th>License Bed Designation</th>\n",
       "      <th>Licensed Total Beds</th>\n",
       "      <th>Discharges</th>\n",
       "      <th>Beds Occupied</th>\n",
       "      <th>Intra Hospital Transfer from Critical Care</th>\n",
       "    </tr>\n",
       "  </thead>\n",
       "  <tbody>\n",
       "    <tr>\n",
       "      <th>2</th>\n",
       "      <td>2005.0</td>\n",
       "      <td>Alameda</td>\n",
       "      <td>106010735.0</td>\n",
       "      <td>ALAMEDA HOSPITAL</td>\n",
       "      <td>General Acute Care</td>\n",
       "      <td>Intensive Care</td>\n",
       "      <td>2920.0</td>\n",
       "      <td>170.0</td>\n",
       "      <td>1369.0</td>\n",
       "      <td>326</td>\n",
       "    </tr>\n",
       "    <tr>\n",
       "      <th>16</th>\n",
       "      <td>2005.0</td>\n",
       "      <td>Alameda</td>\n",
       "      <td>106010739.0</td>\n",
       "      <td>ALTA BATES SUMMIT MED CTR-ALTA BATES CAMPUS</td>\n",
       "      <td>General Acute Care</td>\n",
       "      <td>Intensive Care</td>\n",
       "      <td>5840.0</td>\n",
       "      <td>486.0</td>\n",
       "      <td>6923.0</td>\n",
       "      <td>1394</td>\n",
       "    </tr>\n",
       "    <tr>\n",
       "      <th>30</th>\n",
       "      <td>2005.0</td>\n",
       "      <td>Alameda</td>\n",
       "      <td>106010776.0</td>\n",
       "      <td>CHILDRENS HOSPITAL AND RESEARCH CTR AT OAKLAND</td>\n",
       "      <td>General Acute Care</td>\n",
       "      <td>Intensive Care</td>\n",
       "      <td>8395.0</td>\n",
       "      <td>731.0</td>\n",
       "      <td>6372.0</td>\n",
       "      <td>1583</td>\n",
       "    </tr>\n",
       "    <tr>\n",
       "      <th>58</th>\n",
       "      <td>2005.0</td>\n",
       "      <td>Alameda</td>\n",
       "      <td>106010805.0</td>\n",
       "      <td>EDEN MEDICAL CENTER</td>\n",
       "      <td>General Acute Care</td>\n",
       "      <td>Intensive Care</td>\n",
       "      <td>5119.0</td>\n",
       "      <td>372.0</td>\n",
       "      <td>3775.0</td>\n",
       "      <td>637</td>\n",
       "    </tr>\n",
       "    <tr>\n",
       "      <th>100</th>\n",
       "      <td>2005.0</td>\n",
       "      <td>Alameda</td>\n",
       "      <td>106010846.0</td>\n",
       "      <td>ALAMEDA CO MED CTR - HIGHLAND CAMPUS</td>\n",
       "      <td>General Acute Care</td>\n",
       "      <td>Intensive Care</td>\n",
       "      <td>7300.0</td>\n",
       "      <td>257.0</td>\n",
       "      <td>5218.0</td>\n",
       "      <td>1150</td>\n",
       "    </tr>\n",
       "  </tbody>\n",
       "</table>\n",
       "</div>"
      ],
      "text/plain": [
       "       Year   COUNTY     OSHPD_ID  \\\n",
       "2    2005.0  Alameda  106010735.0   \n",
       "16   2005.0  Alameda  106010739.0   \n",
       "30   2005.0  Alameda  106010776.0   \n",
       "58   2005.0  Alameda  106010805.0   \n",
       "100  2005.0  Alameda  106010846.0   \n",
       "\n",
       "                                      Facility Name  \\\n",
       "2                                  ALAMEDA HOSPITAL   \n",
       "16      ALTA BATES SUMMIT MED CTR-ALTA BATES CAMPUS   \n",
       "30   CHILDRENS HOSPITAL AND RESEARCH CTR AT OAKLAND   \n",
       "58                              EDEN MEDICAL CENTER   \n",
       "100            ALAMEDA CO MED CTR - HIGHLAND CAMPUS   \n",
       "\n",
       "    Licensed Bed Classification License Bed Designation  Licensed Total Beds  \\\n",
       "2            General Acute Care          Intensive Care               2920.0   \n",
       "16           General Acute Care          Intensive Care               5840.0   \n",
       "30           General Acute Care          Intensive Care               8395.0   \n",
       "58           General Acute Care          Intensive Care               5119.0   \n",
       "100          General Acute Care          Intensive Care               7300.0   \n",
       "\n",
       "     Discharges  Beds Occupied  Intra Hospital Transfer from Critical Care  \n",
       "2         170.0         1369.0                                         326  \n",
       "16        486.0         6923.0                                        1394  \n",
       "30        731.0         6372.0                                        1583  \n",
       "58        372.0         3775.0                                         637  \n",
       "100       257.0         5218.0                                        1150  "
      ]
     },
     "execution_count": 19,
     "metadata": {},
     "output_type": "execute_result"
    }
   ],
   "source": [
    "data.head()"
   ]
  },
  {
   "cell_type": "markdown",
   "metadata": {},
   "source": [
    "### Target Variable\n",
    "\n",
    "So, we now need a **target variable** that is the **number of beds available**:\n",
    "\n",
    "This can be easily calcualted using simple arithmetic calculations:\n",
    "* **Total Beds - (total patients in ICU - (total patients coming out of ICU))**"
   ]
  },
  {
   "cell_type": "code",
   "execution_count": 20,
   "metadata": {},
   "outputs": [],
   "source": [
    "# we just calculate all the values of available beds from all the rows\n",
    "list_available_beds = data[\"Licensed Total Beds\"]-(data['Beds Occupied']-(data['Discharges']+data['Intra Hospital Transfer from Critical Care']))\n",
    "\n",
    "# and make it a new column in the datafrane\n",
    "data[\"Available Beds\"] = list_available_beds"
   ]
  },
  {
   "cell_type": "code",
   "execution_count": 21,
   "metadata": {},
   "outputs": [
    {
     "data": {
      "text/html": [
       "<div>\n",
       "<style scoped>\n",
       "    .dataframe tbody tr th:only-of-type {\n",
       "        vertical-align: middle;\n",
       "    }\n",
       "\n",
       "    .dataframe tbody tr th {\n",
       "        vertical-align: top;\n",
       "    }\n",
       "\n",
       "    .dataframe thead th {\n",
       "        text-align: right;\n",
       "    }\n",
       "</style>\n",
       "<table border=\"1\" class=\"dataframe\">\n",
       "  <thead>\n",
       "    <tr style=\"text-align: right;\">\n",
       "      <th></th>\n",
       "      <th>Year</th>\n",
       "      <th>COUNTY</th>\n",
       "      <th>OSHPD_ID</th>\n",
       "      <th>Facility Name</th>\n",
       "      <th>Licensed Bed Classification</th>\n",
       "      <th>License Bed Designation</th>\n",
       "      <th>Licensed Total Beds</th>\n",
       "      <th>Discharges</th>\n",
       "      <th>Beds Occupied</th>\n",
       "      <th>Intra Hospital Transfer from Critical Care</th>\n",
       "      <th>Available Beds</th>\n",
       "    </tr>\n",
       "  </thead>\n",
       "  <tbody>\n",
       "    <tr>\n",
       "      <th>2</th>\n",
       "      <td>2005.0</td>\n",
       "      <td>Alameda</td>\n",
       "      <td>106010735.0</td>\n",
       "      <td>ALAMEDA HOSPITAL</td>\n",
       "      <td>General Acute Care</td>\n",
       "      <td>Intensive Care</td>\n",
       "      <td>2920.0</td>\n",
       "      <td>170.0</td>\n",
       "      <td>1369.0</td>\n",
       "      <td>326</td>\n",
       "      <td>2047.0</td>\n",
       "    </tr>\n",
       "    <tr>\n",
       "      <th>16</th>\n",
       "      <td>2005.0</td>\n",
       "      <td>Alameda</td>\n",
       "      <td>106010739.0</td>\n",
       "      <td>ALTA BATES SUMMIT MED CTR-ALTA BATES CAMPUS</td>\n",
       "      <td>General Acute Care</td>\n",
       "      <td>Intensive Care</td>\n",
       "      <td>5840.0</td>\n",
       "      <td>486.0</td>\n",
       "      <td>6923.0</td>\n",
       "      <td>1394</td>\n",
       "      <td>797.0</td>\n",
       "    </tr>\n",
       "    <tr>\n",
       "      <th>30</th>\n",
       "      <td>2005.0</td>\n",
       "      <td>Alameda</td>\n",
       "      <td>106010776.0</td>\n",
       "      <td>CHILDRENS HOSPITAL AND RESEARCH CTR AT OAKLAND</td>\n",
       "      <td>General Acute Care</td>\n",
       "      <td>Intensive Care</td>\n",
       "      <td>8395.0</td>\n",
       "      <td>731.0</td>\n",
       "      <td>6372.0</td>\n",
       "      <td>1583</td>\n",
       "      <td>4337.0</td>\n",
       "    </tr>\n",
       "    <tr>\n",
       "      <th>58</th>\n",
       "      <td>2005.0</td>\n",
       "      <td>Alameda</td>\n",
       "      <td>106010805.0</td>\n",
       "      <td>EDEN MEDICAL CENTER</td>\n",
       "      <td>General Acute Care</td>\n",
       "      <td>Intensive Care</td>\n",
       "      <td>5119.0</td>\n",
       "      <td>372.0</td>\n",
       "      <td>3775.0</td>\n",
       "      <td>637</td>\n",
       "      <td>2353.0</td>\n",
       "    </tr>\n",
       "    <tr>\n",
       "      <th>100</th>\n",
       "      <td>2005.0</td>\n",
       "      <td>Alameda</td>\n",
       "      <td>106010846.0</td>\n",
       "      <td>ALAMEDA CO MED CTR - HIGHLAND CAMPUS</td>\n",
       "      <td>General Acute Care</td>\n",
       "      <td>Intensive Care</td>\n",
       "      <td>7300.0</td>\n",
       "      <td>257.0</td>\n",
       "      <td>5218.0</td>\n",
       "      <td>1150</td>\n",
       "      <td>3489.0</td>\n",
       "    </tr>\n",
       "  </tbody>\n",
       "</table>\n",
       "</div>"
      ],
      "text/plain": [
       "       Year   COUNTY     OSHPD_ID  \\\n",
       "2    2005.0  Alameda  106010735.0   \n",
       "16   2005.0  Alameda  106010739.0   \n",
       "30   2005.0  Alameda  106010776.0   \n",
       "58   2005.0  Alameda  106010805.0   \n",
       "100  2005.0  Alameda  106010846.0   \n",
       "\n",
       "                                      Facility Name  \\\n",
       "2                                  ALAMEDA HOSPITAL   \n",
       "16      ALTA BATES SUMMIT MED CTR-ALTA BATES CAMPUS   \n",
       "30   CHILDRENS HOSPITAL AND RESEARCH CTR AT OAKLAND   \n",
       "58                              EDEN MEDICAL CENTER   \n",
       "100            ALAMEDA CO MED CTR - HIGHLAND CAMPUS   \n",
       "\n",
       "    Licensed Bed Classification License Bed Designation  Licensed Total Beds  \\\n",
       "2            General Acute Care          Intensive Care               2920.0   \n",
       "16           General Acute Care          Intensive Care               5840.0   \n",
       "30           General Acute Care          Intensive Care               8395.0   \n",
       "58           General Acute Care          Intensive Care               5119.0   \n",
       "100          General Acute Care          Intensive Care               7300.0   \n",
       "\n",
       "     Discharges  Beds Occupied  Intra Hospital Transfer from Critical Care  \\\n",
       "2         170.0         1369.0                                         326   \n",
       "16        486.0         6923.0                                        1394   \n",
       "30        731.0         6372.0                                        1583   \n",
       "58        372.0         3775.0                                         637   \n",
       "100       257.0         5218.0                                        1150   \n",
       "\n",
       "     Available Beds  \n",
       "2            2047.0  \n",
       "16            797.0  \n",
       "30           4337.0  \n",
       "58           2353.0  \n",
       "100          3489.0  "
      ]
     },
     "execution_count": 21,
     "metadata": {},
     "output_type": "execute_result"
    }
   ],
   "source": [
    "data.head()"
   ]
  },
  {
   "cell_type": "markdown",
   "metadata": {},
   "source": [
    "****\n",
    "\n",
    "### Visualization\n",
    "\n",
    "Now that we have all the data we need, let's see the visual representation of some of them to understand them better"
   ]
  },
  {
   "cell_type": "code",
   "execution_count": 22,
   "metadata": {},
   "outputs": [
    {
     "name": "stderr",
     "output_type": "stream",
     "text": [
      "C:\\Users\\HP\\anaconda3\\lib\\site-packages\\seaborn\\axisgrid.py:1969: UserWarning: The `size` parameter has been renamed to `height`; please update your code.\n",
      "  warnings.warn(msg, UserWarning)\n"
     ]
    },
    {
     "data": {
      "text/plain": [
       "<seaborn.axisgrid.PairGrid at 0x1bb02c0d760>"
      ]
     },
     "execution_count": 22,
     "metadata": {},
     "output_type": "execute_result"
    },
    {
     "data": {
      "image/png": "[encoded data removed]",
      "text/plain": [
       "<Figure size 1411.2x504 with 4 Axes>"
      ]
     },
     "metadata": {
      "needs_background": "light"
     },
     "output_type": "display_data"
    }
   ],
   "source": [
    "# for the realtionship between the important variables\n",
    "sns.pairplot(data, x_vars=['Licensed Total Beds','Discharges','Beds Occupied', 'Intra Hospital Transfer from Critical Care'], y_vars='Available Beds', size=7, aspect=0.7, kind='reg')"
   ]
  },
  {
   "cell_type": "code",
   "execution_count": 23,
   "metadata": {},
   "outputs": [
    {
     "name": "stderr",
     "output_type": "stream",
     "text": [
      "C:\\Users\\HP\\anaconda3\\lib\\site-packages\\seaborn\\distributions.py:2557: FutureWarning: `distplot` is a deprecated function and will be removed in a future version. Please adapt your code to use either `displot` (a figure-level function with similar flexibility) or `histplot` (an axes-level function for histograms).\n",
      "  warnings.warn(msg, FutureWarning)\n",
      "C:\\Users\\HP\\anaconda3\\lib\\site-packages\\seaborn\\distributions.py:2557: FutureWarning: `distplot` is a deprecated function and will be removed in a future version. Please adapt your code to use either `displot` (a figure-level function with similar flexibility) or `histplot` (an axes-level function for histograms).\n",
      "  warnings.warn(msg, FutureWarning)\n"
     ]
    },
    {
     "data": {
      "image/png": "[encoded data removed]",
      "text/plain": [
       "<Figure size 936x576 with 1 Axes>"
      ]
     },
     "metadata": {
      "needs_background": "light"
     },
     "output_type": "display_data"
    }
   ],
   "source": [
    "# plot distplot\n",
    "fig, ax = plt.subplots(figsize = (13,8))\n",
    "# the values\n",
    "sns.distplot(data['Licensed Total Beds'], bins = 10, ax = ax)\n",
    "sns.distplot(data['Beds Occupied'], bins = 10, ax = ax)\n",
    "# add some legend to better identify everything\n",
    "plt.legend(labels=[\"Beds Occupied\", \"Total Beds\"])\n",
    "# add title to the plot\n",
    "ax.set_title( \"Total Beds vs Beds Occupied\")  \n",
    "\n",
    "plt.show()"
   ]
  },
  {
   "cell_type": "markdown",
   "metadata": {},
   "source": [
    "***\n",
    "From this plot, we can infer:\n",
    "\n",
    "* In most of the cases, the blue line is **below** the orange line, i.e. **we have free beds we can allot**\n",
    "\n",
    "* In some cases, the blue line is **above** the orange line, i.e. **we have a shortage of beds** "
   ]
  },
  {
   "cell_type": "code",
   "execution_count": 24,
   "metadata": {},
   "outputs": [
    {
     "name": "stderr",
     "output_type": "stream",
     "text": [
      "C:\\Users\\HP\\anaconda3\\lib\\site-packages\\seaborn\\distributions.py:2557: FutureWarning: `distplot` is a deprecated function and will be removed in a future version. Please adapt your code to use either `displot` (a figure-level function with similar flexibility) or `histplot` (an axes-level function for histograms).\n",
      "  warnings.warn(msg, FutureWarning)\n",
      "C:\\Users\\HP\\anaconda3\\lib\\site-packages\\seaborn\\distributions.py:2557: FutureWarning: `distplot` is a deprecated function and will be removed in a future version. Please adapt your code to use either `displot` (a figure-level function with similar flexibility) or `histplot` (an axes-level function for histograms).\n",
      "  warnings.warn(msg, FutureWarning)\n"
     ]
    },
    {
     "data": {
      "image/png": "[encoded data removed]",
      "text/plain": [
       "<Figure size 936x576 with 1 Axes>"
      ]
     },
     "metadata": {
      "needs_background": "light"
     },
     "output_type": "display_data"
    }
   ],
   "source": [
    "# plot distplot\n",
    "fig, ax = plt.subplots(figsize = (13,8))\n",
    "# the values\n",
    "sns.distplot(data['Beds Occupied'], bins = 10, ax = ax)\n",
    "sns.distplot(data['Discharges']+data['Intra Hospital Transfer from Critical Care'], bins = 10, ax = ax)\n",
    "# add some legend to better identify everything\n",
    "plt.legend(labels=[\"People Getting out of ICU\", \"Occupied Beds\"])\n",
    "# add title to the plot\n",
    "ax.set_title( \"Beds Occupied vs People getting out of ICU\")  \n",
    "\n",
    "plt.show()"
   ]
  },
  {
   "cell_type": "markdown",
   "metadata": {},
   "source": [
    "***\n",
    "From this plot, we can infer:\n",
    "\n",
    "* In most of the cases, **the people getting out of ICU are very small compared to all the occupied beds, which is why there is shortage of beds**"
   ]
  },
  {
   "cell_type": "code",
   "execution_count": 25,
   "metadata": {},
   "outputs": [
    {
     "data": {
      "image/png": "[encoded data removed]",
      "text/plain": [
       "<Figure size 936x576 with 1 Axes>"
      ]
     },
     "metadata": {
      "needs_background": "light"
     },
     "output_type": "display_data"
    }
   ],
   "source": [
    "# relationship between beds occupied and people leaving \n",
    "fig, ax = plt.subplots(figsize = (13,8))\n",
    "# the values\n",
    "ax.scatter(x = data['Beds Occupied'], y = (data['Discharges']+data['Intra Hospital Transfer from Critical Care']))\n",
    "# add some legend to better identify everything\n",
    "plt.xlabel(\"Beds Occuped\")\n",
    "plt.ylabel(\"People Getting out of ICU\")\n",
    "# add title to the plot\n",
    "ax.set_title( \"Beds Occupied vs People getting out of ICU\")  \n",
    "\n",
    "plt.show()\n",
    "# sns.jointplot(x = data['Beds Occupied'], y = (data['Discharges']+data['Intra Hospital Transfer from Critical Care']))\n"
   ]
  },
  {
   "cell_type": "markdown",
   "metadata": {},
   "source": [
    "***\n",
    "From this plot, we can infer:\n",
    "\n",
    "* There is a somewhat linear relationship between the total beds occupied in the Icu and people getting out of ICU"
   ]
  },
  {
   "cell_type": "markdown",
   "metadata": {},
   "source": [
    "****\n",
    "\n",
    "### Now that we have an idea of the trends that the data follows, let's get it ready for training. We need to:\n",
    "\n",
    "\n",
    "* **Step-1**: Get the object columns encoded so we can find out the correlation between them.\n",
    "    \n",
    "    * Correlation is only calculated between continous variables and not object type.\n",
    "\n",
    "\n",
    "\n",
    "* **Step-2**: Get rid of excess/useless columns that do not help, and pick the best to start training\n",
    "    \n",
    "    * For this we can use correlation of these columns with the target variable to fish out the good attributes\n",
    "\n",
    "\n"
   ]
  },
  {
   "cell_type": "markdown",
   "metadata": {},
   "source": [
    "### Step-1: Encoding\n"
   ]
  },
  {
   "cell_type": "code",
   "execution_count": 26,
   "metadata": {},
   "outputs": [
    {
     "name": "stdout",
     "output_type": "stream",
     "text": [
      "Index(['Year', 'COUNTY', 'OSHPD_ID', 'Facility Name',\n",
      "       'Licensed Bed Classification', 'License Bed Designation',\n",
      "       'Licensed Total Beds', 'Discharges', 'Beds Occupied',\n",
      "       'Intra Hospital Transfer from Critical Care', 'Available Beds'],\n",
      "      dtype='object')\n",
      "\n",
      "Unique values in Licensed Bed Classification: ['General Acute Care']\n",
      "\n",
      "Unique values in License Bed Designation: ['Intensive Care']\n"
     ]
    }
   ],
   "source": [
    "print(data.columns)\n",
    "\n",
    "print(\"\\nUnique values in Licensed Bed Classification:\", data['Licensed Bed Classification'].unique())\n",
    "print(\"\\nUnique values in License Bed Designation:\", data['License Bed Designation'].unique())"
   ]
  },
  {
   "cell_type": "markdown",
   "metadata": {},
   "source": [
    "#### Columns:\n",
    "\n",
    "1. Year: to be removed as it is not useful.\n",
    "\n",
    "2. County: needs encoding.\n",
    "\n",
    "3. OSHPD_ID: to be removed as it is not useful.\n",
    "\n",
    "4. Facility Name: needs encoding.\n",
    "\n",
    "5. Licensed Bed Classification: only has one value, serves no purpose.\n",
    "\n",
    "6. License Bed Designation : only has one value, serves no purpose."
   ]
  },
  {
   "cell_type": "code",
   "execution_count": 27,
   "metadata": {},
   "outputs": [
    {
     "data": {
      "text/html": [
       "<div>\n",
       "<style scoped>\n",
       "    .dataframe tbody tr th:only-of-type {\n",
       "        vertical-align: middle;\n",
       "    }\n",
       "\n",
       "    .dataframe tbody tr th {\n",
       "        vertical-align: top;\n",
       "    }\n",
       "\n",
       "    .dataframe thead th {\n",
       "        text-align: right;\n",
       "    }\n",
       "</style>\n",
       "<table border=\"1\" class=\"dataframe\">\n",
       "  <thead>\n",
       "    <tr style=\"text-align: right;\">\n",
       "      <th></th>\n",
       "      <th>Year</th>\n",
       "      <th>COUNTY</th>\n",
       "      <th>OSHPD_ID</th>\n",
       "      <th>Facility Name</th>\n",
       "      <th>Licensed Bed Classification</th>\n",
       "      <th>License Bed Designation</th>\n",
       "      <th>Licensed Total Beds</th>\n",
       "      <th>Discharges</th>\n",
       "      <th>Beds Occupied</th>\n",
       "      <th>Intra Hospital Transfer from Critical Care</th>\n",
       "      <th>Available Beds</th>\n",
       "    </tr>\n",
       "  </thead>\n",
       "  <tbody>\n",
       "    <tr>\n",
       "      <th>2</th>\n",
       "      <td>2005.0</td>\n",
       "      <td>50</td>\n",
       "      <td>106010735.0</td>\n",
       "      <td>4</td>\n",
       "      <td>General Acute Care</td>\n",
       "      <td>Intensive Care</td>\n",
       "      <td>2920.0</td>\n",
       "      <td>170.0</td>\n",
       "      <td>1369.0</td>\n",
       "      <td>326</td>\n",
       "      <td>2047.0</td>\n",
       "    </tr>\n",
       "    <tr>\n",
       "      <th>16</th>\n",
       "      <td>2005.0</td>\n",
       "      <td>50</td>\n",
       "      <td>106010739.0</td>\n",
       "      <td>7</td>\n",
       "      <td>General Acute Care</td>\n",
       "      <td>Intensive Care</td>\n",
       "      <td>5840.0</td>\n",
       "      <td>486.0</td>\n",
       "      <td>6923.0</td>\n",
       "      <td>1394</td>\n",
       "      <td>797.0</td>\n",
       "    </tr>\n",
       "    <tr>\n",
       "      <th>30</th>\n",
       "      <td>2005.0</td>\n",
       "      <td>50</td>\n",
       "      <td>106010776.0</td>\n",
       "      <td>49</td>\n",
       "      <td>General Acute Care</td>\n",
       "      <td>Intensive Care</td>\n",
       "      <td>8395.0</td>\n",
       "      <td>731.0</td>\n",
       "      <td>6372.0</td>\n",
       "      <td>1583</td>\n",
       "      <td>4337.0</td>\n",
       "    </tr>\n",
       "    <tr>\n",
       "      <th>58</th>\n",
       "      <td>2005.0</td>\n",
       "      <td>50</td>\n",
       "      <td>106010805.0</td>\n",
       "      <td>105</td>\n",
       "      <td>General Acute Care</td>\n",
       "      <td>Intensive Care</td>\n",
       "      <td>5119.0</td>\n",
       "      <td>372.0</td>\n",
       "      <td>3775.0</td>\n",
       "      <td>637</td>\n",
       "      <td>2353.0</td>\n",
       "    </tr>\n",
       "    <tr>\n",
       "      <th>100</th>\n",
       "      <td>2005.0</td>\n",
       "      <td>50</td>\n",
       "      <td>106010846.0</td>\n",
       "      <td>2</td>\n",
       "      <td>General Acute Care</td>\n",
       "      <td>Intensive Care</td>\n",
       "      <td>7300.0</td>\n",
       "      <td>257.0</td>\n",
       "      <td>5218.0</td>\n",
       "      <td>1150</td>\n",
       "      <td>3489.0</td>\n",
       "    </tr>\n",
       "  </tbody>\n",
       "</table>\n",
       "</div>"
      ],
      "text/plain": [
       "       Year  COUNTY     OSHPD_ID  Facility Name Licensed Bed Classification  \\\n",
       "2    2005.0      50  106010735.0              4          General Acute Care   \n",
       "16   2005.0      50  106010739.0              7          General Acute Care   \n",
       "30   2005.0      50  106010776.0             49          General Acute Care   \n",
       "58   2005.0      50  106010805.0            105          General Acute Care   \n",
       "100  2005.0      50  106010846.0              2          General Acute Care   \n",
       "\n",
       "    License Bed Designation  Licensed Total Beds  Discharges  Beds Occupied  \\\n",
       "2            Intensive Care               2920.0       170.0         1369.0   \n",
       "16           Intensive Care               5840.0       486.0         6923.0   \n",
       "30           Intensive Care               8395.0       731.0         6372.0   \n",
       "58           Intensive Care               5119.0       372.0         3775.0   \n",
       "100          Intensive Care               7300.0       257.0         5218.0   \n",
       "\n",
       "     Intra Hospital Transfer from Critical Care  Available Beds  \n",
       "2                                           326          2047.0  \n",
       "16                                         1394           797.0  \n",
       "30                                         1583          4337.0  \n",
       "58                                          637          2353.0  \n",
       "100                                        1150          3489.0  "
      ]
     },
     "execution_count": 27,
     "metadata": {},
     "output_type": "execute_result"
    }
   ],
   "source": [
    "# create an instance\n",
    "le = LabelEncoder()\n",
    "\n",
    "data.COUNTY = le.fit_transform(data.COUNTY)\n",
    "data['Facility Name'] = le.fit_transform(data['Facility Name'])\n",
    "\n",
    "data.head()"
   ]
  },
  {
   "cell_type": "markdown",
   "metadata": {},
   "source": [
    "### Step-2: Correlation\n"
   ]
  },
  {
   "cell_type": "code",
   "execution_count": 28,
   "metadata": {},
   "outputs": [
    {
     "name": "stdout",
     "output_type": "stream",
     "text": [
      "Available Beds                                1.000000\n",
      "Licensed Total Beds                           0.880827\n",
      "Intra Hospital Transfer from Critical Care    0.619776\n",
      "Beds Occupied                                 0.597511\n",
      "Discharges                                    0.508840\n",
      "Year                                          0.112516\n",
      "COUNTY                                        0.046273\n",
      "OSHPD_ID                                     -0.005859\n",
      "Facility Name                                -0.024325\n",
      "Name: Available Beds, dtype: float64\n"
     ]
    }
   ],
   "source": [
    "correlation = data.corr()\n",
    "print(correlation[\"Available Beds\"].sort_values(ascending = False))"
   ]
  },
  {
   "cell_type": "code",
   "execution_count": 29,
   "metadata": {},
   "outputs": [
    {
     "data": {
      "text/plain": [
       "Text(0, 0.5, 'Features')"
      ]
     },
     "execution_count": 29,
     "metadata": {},
     "output_type": "execute_result"
    },
    {
     "data": {
      "image/png": "[encoded data removed]",
      "text/plain": [
       "<Figure size 720x504 with 1 Axes>"
      ]
     },
     "metadata": {
      "needs_background": "light"
     },
     "output_type": "display_data"
    }
   ],
   "source": [
    "plt.figure(figsize=(10,7))\n",
    "correlation[\"Available Beds\"].apply(lambda x: (x)).sort_values(ascending=False).iloc[1:9][::-1].plot(kind='barh',color='red')\n",
    "plt.title('Highest Correlated Features', size=20,pad=26)\n",
    "plt.xlabel('Correlation cofficient')\n",
    "plt.ylabel('Features')"
   ]
  },
  {
   "cell_type": "markdown",
   "metadata": {},
   "source": [
    "### Now that we have our features, we can select them, and get rid of the bad ones"
   ]
  },
  {
   "cell_type": "code",
   "execution_count": 30,
   "metadata": {},
   "outputs": [
    {
     "data": {
      "text/html": [
       "<div>\n",
       "<style scoped>\n",
       "    .dataframe tbody tr th:only-of-type {\n",
       "        vertical-align: middle;\n",
       "    }\n",
       "\n",
       "    .dataframe tbody tr th {\n",
       "        vertical-align: top;\n",
       "    }\n",
       "\n",
       "    .dataframe thead th {\n",
       "        text-align: right;\n",
       "    }\n",
       "</style>\n",
       "<table border=\"1\" class=\"dataframe\">\n",
       "  <thead>\n",
       "    <tr style=\"text-align: right;\">\n",
       "      <th></th>\n",
       "      <th>COUNTY</th>\n",
       "      <th>Facility Name</th>\n",
       "      <th>Licensed Total Beds</th>\n",
       "      <th>Discharges</th>\n",
       "      <th>Beds Occupied</th>\n",
       "      <th>Intra Hospital Transfer from Critical Care</th>\n",
       "      <th>Available Beds</th>\n",
       "    </tr>\n",
       "  </thead>\n",
       "  <tbody>\n",
       "    <tr>\n",
       "      <th>2</th>\n",
       "      <td>50</td>\n",
       "      <td>4</td>\n",
       "      <td>2920.0</td>\n",
       "      <td>170.0</td>\n",
       "      <td>1369.0</td>\n",
       "      <td>326</td>\n",
       "      <td>2047.0</td>\n",
       "    </tr>\n",
       "    <tr>\n",
       "      <th>16</th>\n",
       "      <td>50</td>\n",
       "      <td>7</td>\n",
       "      <td>5840.0</td>\n",
       "      <td>486.0</td>\n",
       "      <td>6923.0</td>\n",
       "      <td>1394</td>\n",
       "      <td>797.0</td>\n",
       "    </tr>\n",
       "    <tr>\n",
       "      <th>30</th>\n",
       "      <td>50</td>\n",
       "      <td>49</td>\n",
       "      <td>8395.0</td>\n",
       "      <td>731.0</td>\n",
       "      <td>6372.0</td>\n",
       "      <td>1583</td>\n",
       "      <td>4337.0</td>\n",
       "    </tr>\n",
       "    <tr>\n",
       "      <th>58</th>\n",
       "      <td>50</td>\n",
       "      <td>105</td>\n",
       "      <td>5119.0</td>\n",
       "      <td>372.0</td>\n",
       "      <td>3775.0</td>\n",
       "      <td>637</td>\n",
       "      <td>2353.0</td>\n",
       "    </tr>\n",
       "    <tr>\n",
       "      <th>100</th>\n",
       "      <td>50</td>\n",
       "      <td>2</td>\n",
       "      <td>7300.0</td>\n",
       "      <td>257.0</td>\n",
       "      <td>5218.0</td>\n",
       "      <td>1150</td>\n",
       "      <td>3489.0</td>\n",
       "    </tr>\n",
       "  </tbody>\n",
       "</table>\n",
       "</div>"
      ],
      "text/plain": [
       "     COUNTY  Facility Name  Licensed Total Beds  Discharges  Beds Occupied  \\\n",
       "2        50              4               2920.0       170.0         1369.0   \n",
       "16       50              7               5840.0       486.0         6923.0   \n",
       "30       50             49               8395.0       731.0         6372.0   \n",
       "58       50            105               5119.0       372.0         3775.0   \n",
       "100      50              2               7300.0       257.0         5218.0   \n",
       "\n",
       "     Intra Hospital Transfer from Critical Care  Available Beds  \n",
       "2                                           326          2047.0  \n",
       "16                                         1394           797.0  \n",
       "30                                         1583          4337.0  \n",
       "58                                          637          2353.0  \n",
       "100                                        1150          3489.0  "
      ]
     },
     "execution_count": 30,
     "metadata": {},
     "output_type": "execute_result"
    }
   ],
   "source": [
    "data2 = data.drop(['OSHPD_ID','Licensed Bed Classification','License Bed Designation','Year'],axis=1)\n",
    "data2.head()"
   ]
  },
  {
   "cell_type": "markdown",
   "metadata": {},
   "source": [
    "### Done.\n",
    "\n",
    "### Now we can move on to the training part."
   ]
  },
  {
   "cell_type": "code",
   "execution_count": 31,
   "metadata": {},
   "outputs": [],
   "source": [
    "# split the independent and dependent variables\n",
    "\n",
    "# independent variables\n",
    "X = data2.iloc[:, :-1]\n",
    "# target variable\n",
    "y = data2.iloc[:,-1]\n"
   ]
  },
  {
   "cell_type": "code",
   "execution_count": 32,
   "metadata": {},
   "outputs": [
    {
     "data": {
      "text/html": [
       "<div>\n",
       "<style scoped>\n",
       "    .dataframe tbody tr th:only-of-type {\n",
       "        vertical-align: middle;\n",
       "    }\n",
       "\n",
       "    .dataframe tbody tr th {\n",
       "        vertical-align: top;\n",
       "    }\n",
       "\n",
       "    .dataframe thead th {\n",
       "        text-align: right;\n",
       "    }\n",
       "</style>\n",
       "<table border=\"1\" class=\"dataframe\">\n",
       "  <thead>\n",
       "    <tr style=\"text-align: right;\">\n",
       "      <th></th>\n",
       "      <th>COUNTY</th>\n",
       "      <th>Facility Name</th>\n",
       "      <th>Licensed Total Beds</th>\n",
       "      <th>Discharges</th>\n",
       "      <th>Beds Occupied</th>\n",
       "      <th>Intra Hospital Transfer from Critical Care</th>\n",
       "    </tr>\n",
       "  </thead>\n",
       "  <tbody>\n",
       "    <tr>\n",
       "      <th>2</th>\n",
       "      <td>50</td>\n",
       "      <td>4</td>\n",
       "      <td>2920.0</td>\n",
       "      <td>170.0</td>\n",
       "      <td>1369.0</td>\n",
       "      <td>326</td>\n",
       "    </tr>\n",
       "    <tr>\n",
       "      <th>16</th>\n",
       "      <td>50</td>\n",
       "      <td>7</td>\n",
       "      <td>5840.0</td>\n",
       "      <td>486.0</td>\n",
       "      <td>6923.0</td>\n",
       "      <td>1394</td>\n",
       "    </tr>\n",
       "    <tr>\n",
       "      <th>30</th>\n",
       "      <td>50</td>\n",
       "      <td>49</td>\n",
       "      <td>8395.0</td>\n",
       "      <td>731.0</td>\n",
       "      <td>6372.0</td>\n",
       "      <td>1583</td>\n",
       "    </tr>\n",
       "    <tr>\n",
       "      <th>58</th>\n",
       "      <td>50</td>\n",
       "      <td>105</td>\n",
       "      <td>5119.0</td>\n",
       "      <td>372.0</td>\n",
       "      <td>3775.0</td>\n",
       "      <td>637</td>\n",
       "    </tr>\n",
       "    <tr>\n",
       "      <th>100</th>\n",
       "      <td>50</td>\n",
       "      <td>2</td>\n",
       "      <td>7300.0</td>\n",
       "      <td>257.0</td>\n",
       "      <td>5218.0</td>\n",
       "      <td>1150</td>\n",
       "    </tr>\n",
       "  </tbody>\n",
       "</table>\n",
       "</div>"
      ],
      "text/plain": [
       "     COUNTY  Facility Name  Licensed Total Beds  Discharges  Beds Occupied  \\\n",
       "2        50              4               2920.0       170.0         1369.0   \n",
       "16       50              7               5840.0       486.0         6923.0   \n",
       "30       50             49               8395.0       731.0         6372.0   \n",
       "58       50            105               5119.0       372.0         3775.0   \n",
       "100      50              2               7300.0       257.0         5218.0   \n",
       "\n",
       "     Intra Hospital Transfer from Critical Care  \n",
       "2                                           326  \n",
       "16                                         1394  \n",
       "30                                         1583  \n",
       "58                                          637  \n",
       "100                                        1150  "
      ]
     },
     "execution_count": 32,
     "metadata": {},
     "output_type": "execute_result"
    }
   ],
   "source": [
    "X.head()"
   ]
  },
  {
   "cell_type": "code",
   "execution_count": 33,
   "metadata": {},
   "outputs": [
    {
     "data": {
      "text/plain": [
       "2      2047.0\n",
       "16      797.0\n",
       "30     4337.0\n",
       "58     2353.0\n",
       "100    3489.0\n",
       "Name: Available Beds, dtype: float64"
      ]
     },
     "execution_count": 33,
     "metadata": {},
     "output_type": "execute_result"
    }
   ],
   "source": [
    "y.head()"
   ]
  },
  {
   "cell_type": "markdown",
   "metadata": {},
   "source": [
    "****\n",
    "#### Let's split them into test and train sets"
   ]
  },
  {
   "cell_type": "code",
   "execution_count": 34,
   "metadata": {},
   "outputs": [
    {
     "name": "stdout",
     "output_type": "stream",
     "text": [
      "Size of x_train: (2706, 6)\n",
      "\n",
      "Size of x_test: (1161, 6)\n",
      "\n",
      "Size of y_train: (2706,)\n",
      "\n",
      "Size of y_test: (1161,)\n"
     ]
    }
   ],
   "source": [
    "x_train, x_test, y_train, y_test = train_test_split(X, y, test_size=0.3, random_state=42)\n",
    "\n",
    "print(\"Size of x_train:\", x_train.shape)\n",
    "print(\"\\nSize of x_test:\", x_test.shape)\n",
    "print(\"\\nSize of y_train:\", y_train.shape)\n",
    "print(\"\\nSize of y_test:\", y_test.shape)"
   ]
  },
  {
   "cell_type": "markdown",
   "metadata": {},
   "source": [
    "****\n",
    "### Linear Regression"
   ]
  },
  {
   "cell_type": "code",
   "execution_count": 35,
   "metadata": {},
   "outputs": [],
   "source": [
    "# import\n",
    "from sklearn.linear_model import LinearRegression"
   ]
  },
  {
   "cell_type": "code",
   "execution_count": 36,
   "metadata": {},
   "outputs": [
    {
     "data": {
      "text/plain": [
       "LinearRegression(normalize=True)"
      ]
     },
     "execution_count": 36,
     "metadata": {},
     "output_type": "execute_result"
    }
   ],
   "source": [
    "# load the model with normalization\n",
    "model =  LinearRegression(normalize=True)\n",
    "# fit the training data\n",
    "model.fit(x_train,y_train) "
   ]
  },
  {
   "cell_type": "code",
   "execution_count": 37,
   "metadata": {},
   "outputs": [
    {
     "data": {
      "text/plain": [
       "array([ 425., 3349., 2095., ..., 2614., 1464., 6682.])"
      ]
     },
     "execution_count": 37,
     "metadata": {},
     "output_type": "execute_result"
    }
   ],
   "source": [
    "y_pred_test = model.predict(x_test)\n",
    "y_pred_test"
   ]
  },
  {
   "cell_type": "markdown",
   "metadata": {},
   "source": [
    "****\n",
    "The performance of the model"
   ]
  },
  {
   "cell_type": "code",
   "execution_count": 38,
   "metadata": {},
   "outputs": [
    {
     "data": {
      "text/plain": [
       "-1.3642420526593924e-12"
      ]
     },
     "execution_count": 38,
     "metadata": {},
     "output_type": "execute_result"
    }
   ],
   "source": [
    "model.intercept_"
   ]
  },
  {
   "cell_type": "code",
   "execution_count": 39,
   "metadata": {},
   "outputs": [
    {
     "data": {
      "text/plain": [
       "array([-1.06797017e-14,  1.88337330e-15,  1.00000000e+00,  1.00000000e+00,\n",
       "       -1.00000000e+00,  1.00000000e+00])"
      ]
     },
     "execution_count": 39,
     "metadata": {},
     "output_type": "execute_result"
    }
   ],
   "source": [
    "model.coef_"
   ]
  },
  {
   "cell_type": "code",
   "execution_count": 40,
   "metadata": {},
   "outputs": [
    {
     "data": {
      "text/plain": [
       "array([2047.,  797., 4337., ..., 1979., 1578., 5036.])"
      ]
     },
     "execution_count": 40,
     "metadata": {},
     "output_type": "execute_result"
    }
   ],
   "source": [
    "# predict the main values of the data\n",
    "y_pred = model.predict(X)\n",
    "y_pred"
   ]
  },
  {
   "cell_type": "code",
   "execution_count": 41,
   "metadata": {},
   "outputs": [
    {
     "data": {
      "text/plain": [
       "(3867,)"
      ]
     },
     "execution_count": 41,
     "metadata": {},
     "output_type": "execute_result"
    }
   ],
   "source": [
    "y_pred.shape"
   ]
  },
  {
   "cell_type": "code",
   "execution_count": 42,
   "metadata": {},
   "outputs": [],
   "source": [
    "# we don't want the float values which the model will predict and only need the integer values of how many beds are \n",
    "#available\n",
    "for i in range(len(y_pred)):\n",
    "    y_pred[i] = int(y_pred[i])"
   ]
  },
  {
   "cell_type": "markdown",
   "metadata": {},
   "source": [
    "****\n",
    "Let's get the data we previously cleaned and saved to add this new predicted values to make it easier to read"
   ]
  },
  {
   "cell_type": "code",
   "execution_count": 43,
   "metadata": {},
   "outputs": [],
   "source": [
    "original_data = pd.read_csv('Original Data(cleaned).csv')"
   ]
  },
  {
   "cell_type": "code",
   "execution_count": 44,
   "metadata": {},
   "outputs": [],
   "source": [
    "original_data[\"Beds Available\"] = y_pred"
   ]
  },
  {
   "cell_type": "code",
   "execution_count": 45,
   "metadata": {},
   "outputs": [
    {
     "data": {
      "text/html": [
       "<div>\n",
       "<style scoped>\n",
       "    .dataframe tbody tr th:only-of-type {\n",
       "        vertical-align: middle;\n",
       "    }\n",
       "\n",
       "    .dataframe tbody tr th {\n",
       "        vertical-align: top;\n",
       "    }\n",
       "\n",
       "    .dataframe thead th {\n",
       "        text-align: right;\n",
       "    }\n",
       "</style>\n",
       "<table border=\"1\" class=\"dataframe\">\n",
       "  <thead>\n",
       "    <tr style=\"text-align: right;\">\n",
       "      <th></th>\n",
       "      <th>Year</th>\n",
       "      <th>COUNTY</th>\n",
       "      <th>OSHPD_ID</th>\n",
       "      <th>Facility Name</th>\n",
       "      <th>Licensed Bed Classification</th>\n",
       "      <th>License Bed Designation</th>\n",
       "      <th>Licensed Bed Day</th>\n",
       "      <th>Discharges</th>\n",
       "      <th>Census Day</th>\n",
       "      <th>Intra Hospital Transfer from Critical Care</th>\n",
       "      <th>Beds Available</th>\n",
       "    </tr>\n",
       "  </thead>\n",
       "  <tbody>\n",
       "    <tr>\n",
       "      <th>0</th>\n",
       "      <td>2005.0</td>\n",
       "      <td>Alameda</td>\n",
       "      <td>106010735.0</td>\n",
       "      <td>ALAMEDA HOSPITAL</td>\n",
       "      <td>General Acute Care</td>\n",
       "      <td>Intensive Care</td>\n",
       "      <td>2920.0</td>\n",
       "      <td>170.0</td>\n",
       "      <td>1369.0</td>\n",
       "      <td>326</td>\n",
       "      <td>2046.0</td>\n",
       "    </tr>\n",
       "    <tr>\n",
       "      <th>1</th>\n",
       "      <td>2005.0</td>\n",
       "      <td>Alameda</td>\n",
       "      <td>106010739.0</td>\n",
       "      <td>ALTA BATES SUMMIT MED CTR-ALTA BATES CAMPUS</td>\n",
       "      <td>General Acute Care</td>\n",
       "      <td>Intensive Care</td>\n",
       "      <td>5840.0</td>\n",
       "      <td>486.0</td>\n",
       "      <td>6923.0</td>\n",
       "      <td>1394</td>\n",
       "      <td>796.0</td>\n",
       "    </tr>\n",
       "    <tr>\n",
       "      <th>2</th>\n",
       "      <td>2005.0</td>\n",
       "      <td>Alameda</td>\n",
       "      <td>106010776.0</td>\n",
       "      <td>CHILDRENS HOSPITAL AND RESEARCH CTR AT OAKLAND</td>\n",
       "      <td>General Acute Care</td>\n",
       "      <td>Intensive Care</td>\n",
       "      <td>8395.0</td>\n",
       "      <td>731.0</td>\n",
       "      <td>6372.0</td>\n",
       "      <td>1583</td>\n",
       "      <td>4337.0</td>\n",
       "    </tr>\n",
       "    <tr>\n",
       "      <th>3</th>\n",
       "      <td>2005.0</td>\n",
       "      <td>Alameda</td>\n",
       "      <td>106010805.0</td>\n",
       "      <td>EDEN MEDICAL CENTER</td>\n",
       "      <td>General Acute Care</td>\n",
       "      <td>Intensive Care</td>\n",
       "      <td>5119.0</td>\n",
       "      <td>372.0</td>\n",
       "      <td>3775.0</td>\n",
       "      <td>637</td>\n",
       "      <td>2352.0</td>\n",
       "    </tr>\n",
       "    <tr>\n",
       "      <th>4</th>\n",
       "      <td>2005.0</td>\n",
       "      <td>Alameda</td>\n",
       "      <td>106010846.0</td>\n",
       "      <td>ALAMEDA CO MED CTR - HIGHLAND CAMPUS</td>\n",
       "      <td>General Acute Care</td>\n",
       "      <td>Intensive Care</td>\n",
       "      <td>7300.0</td>\n",
       "      <td>257.0</td>\n",
       "      <td>5218.0</td>\n",
       "      <td>1150</td>\n",
       "      <td>3488.0</td>\n",
       "    </tr>\n",
       "  </tbody>\n",
       "</table>\n",
       "</div>"
      ],
      "text/plain": [
       "     Year   COUNTY     OSHPD_ID  \\\n",
       "0  2005.0  Alameda  106010735.0   \n",
       "1  2005.0  Alameda  106010739.0   \n",
       "2  2005.0  Alameda  106010776.0   \n",
       "3  2005.0  Alameda  106010805.0   \n",
       "4  2005.0  Alameda  106010846.0   \n",
       "\n",
       "                                    Facility Name Licensed Bed Classification  \\\n",
       "0                                ALAMEDA HOSPITAL          General Acute Care   \n",
       "1     ALTA BATES SUMMIT MED CTR-ALTA BATES CAMPUS          General Acute Care   \n",
       "2  CHILDRENS HOSPITAL AND RESEARCH CTR AT OAKLAND          General Acute Care   \n",
       "3                             EDEN MEDICAL CENTER          General Acute Care   \n",
       "4            ALAMEDA CO MED CTR - HIGHLAND CAMPUS          General Acute Care   \n",
       "\n",
       "  License Bed Designation  Licensed Bed Day  Discharges  Census Day  \\\n",
       "0          Intensive Care            2920.0       170.0      1369.0   \n",
       "1          Intensive Care            5840.0       486.0      6923.0   \n",
       "2          Intensive Care            8395.0       731.0      6372.0   \n",
       "3          Intensive Care            5119.0       372.0      3775.0   \n",
       "4          Intensive Care            7300.0       257.0      5218.0   \n",
       "\n",
       "   Intra Hospital Transfer from Critical Care  Beds Available  \n",
       "0                                         326          2046.0  \n",
       "1                                        1394           796.0  \n",
       "2                                        1583          4337.0  \n",
       "3                                         637          2352.0  \n",
       "4                                        1150          3488.0  "
      ]
     },
     "execution_count": 45,
     "metadata": {},
     "output_type": "execute_result"
    }
   ],
   "source": [
    "original_data.head()"
   ]
  },
  {
   "cell_type": "code",
   "execution_count": 46,
   "metadata": {},
   "outputs": [
    {
     "data": {
      "text/plain": [
       "<matplotlib.legend.Legend at 0x1bb03c9f100>"
      ]
     },
     "execution_count": 46,
     "metadata": {},
     "output_type": "execute_result"
    },
    {
     "data": {
      "image/png": "[encoded data removed]",
      "text/plain": [
       "<Figure size 432x288 with 1 Axes>"
      ]
     },
     "metadata": {
      "needs_background": "light"
     },
     "output_type": "display_data"
    }
   ],
   "source": [
    "plt.plot(original_data[[\"Licensed Bed Day\",'Beds Available']])\n",
    "plt.legend([\"Total Beds\",\"Beds Available\"])"
   ]
  },
  {
   "cell_type": "code",
   "execution_count": 47,
   "metadata": {},
   "outputs": [],
   "source": [
    "original_data.to_csv(\"predicted.csv\", index=False)"
   ]
  },
  {
   "cell_type": "markdown",
   "metadata": {},
   "source": []
  }
 ],
 "metadata": {
  "kernelspec": {
   "display_name": "Python 3",
   "language": "python",
   "name": "python3"
  },
  "language_info": {
   "codemirror_mode": {
    "name": "ipython",
    "version": 3
   },
   "file_extension": ".py",
   "mimetype": "text/x-python",
   "name": "python",
   "nbconvert_exporter": "python",
   "pygments_lexer": "ipython3",
   "version": "3.8.8"
  }
 },
 "nbformat": 4,
 "nbformat_minor": 2
}
